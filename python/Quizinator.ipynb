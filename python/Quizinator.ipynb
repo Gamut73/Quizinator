{
  "nbformat": 4,
  "nbformat_minor": 0,
  "metadata": {
    "colab": {
      "provenance": [],
      "gpuType": "T4"
    },
    "kernelspec": {
      "name": "python3",
      "display_name": "Python 3"
    },
    "language_info": {
      "name": "python"
    },
    "accelerator": "GPU"
  },
  "cells": [
    {
      "cell_type": "markdown",
      "source": [
        "# Dependencies\n"
      ],
      "metadata": {
        "id": "IPVUmdvMuhnk"
      }
    },
    {
      "cell_type": "code",
      "source": [
        "# Pytube\n",
        "!pip install pytube\n",
        "\n",
        "# Whisper\n",
        "!pip install git+https://github.com/openai/whisper.git"
      ],
      "metadata": {
        "colab": {
          "base_uri": "https://localhost:8080/"
        },
        "id": "bNqa0VkUuP9a",
        "outputId": "8b5d49ae-1c8a-420d-b113-74353da0c5c4"
      },
      "execution_count": null,
      "outputs": [
        {
          "output_type": "stream",
          "name": "stdout",
          "text": [
            "Collecting pytube\n",
            "  Downloading pytube-15.0.0-py3-none-any.whl (57 kB)\n",
            "\u001b[?25l     \u001b[90m━━━━━━━━━━━━━━━━━━━━━━━━━━━━━━━━━━━━━━━━\u001b[0m \u001b[32m0.0/57.6 kB\u001b[0m \u001b[31m?\u001b[0m eta \u001b[36m-:--:--\u001b[0m\r\u001b[2K     \u001b[90m━━━━━━━━━━━━━━━━━━━━━━━━━━━━━━━━━━━━━━━━\u001b[0m \u001b[32m57.6/57.6 kB\u001b[0m \u001b[31m1.7 MB/s\u001b[0m eta \u001b[36m0:00:00\u001b[0m\n",
            "\u001b[?25hInstalling collected packages: pytube\n",
            "Successfully installed pytube-15.0.0\n",
            "Collecting git+https://github.com/openai/whisper.git\n",
            "  Cloning https://github.com/openai/whisper.git to /tmp/pip-req-build-2lcwli4x\n",
            "  Running command git clone --filter=blob:none --quiet https://github.com/openai/whisper.git /tmp/pip-req-build-2lcwli4x\n",
            "  Resolved https://github.com/openai/whisper.git to commit ba3f3cd54b0e5b8ce1ab3de13e32122d0d5f98ab\n",
            "  Installing build dependencies ... \u001b[?25l\u001b[?25hdone\n",
            "  Getting requirements to build wheel ... \u001b[?25l\u001b[?25hdone\n",
            "  Preparing metadata (pyproject.toml) ... \u001b[?25l\u001b[?25hdone\n",
            "Requirement already satisfied: numba in /usr/local/lib/python3.10/dist-packages (from openai-whisper==20231117) (0.58.1)\n",
            "Requirement already satisfied: numpy in /usr/local/lib/python3.10/dist-packages (from openai-whisper==20231117) (1.25.2)\n",
            "Requirement already satisfied: torch in /usr/local/lib/python3.10/dist-packages (from openai-whisper==20231117) (2.3.0+cu121)\n",
            "Requirement already satisfied: tqdm in /usr/local/lib/python3.10/dist-packages (from openai-whisper==20231117) (4.66.4)\n",
            "Requirement already satisfied: more-itertools in /usr/local/lib/python3.10/dist-packages (from openai-whisper==20231117) (10.1.0)\n",
            "Collecting tiktoken (from openai-whisper==20231117)\n",
            "  Downloading tiktoken-0.7.0-cp310-cp310-manylinux_2_17_x86_64.manylinux2014_x86_64.whl (1.1 MB)\n",
            "\u001b[2K     \u001b[90m━━━━━━━━━━━━━━━━━━━━━━━━━━━━━━━━━━━━━━━━\u001b[0m \u001b[32m1.1/1.1 MB\u001b[0m \u001b[31m8.7 MB/s\u001b[0m eta \u001b[36m0:00:00\u001b[0m\n",
            "\u001b[?25hRequirement already satisfied: triton<3,>=2.0.0 in /usr/local/lib/python3.10/dist-packages (from openai-whisper==20231117) (2.3.0)\n",
            "Requirement already satisfied: filelock in /usr/local/lib/python3.10/dist-packages (from triton<3,>=2.0.0->openai-whisper==20231117) (3.14.0)\n",
            "Requirement already satisfied: llvmlite<0.42,>=0.41.0dev0 in /usr/local/lib/python3.10/dist-packages (from numba->openai-whisper==20231117) (0.41.1)\n",
            "Requirement already satisfied: regex>=2022.1.18 in /usr/local/lib/python3.10/dist-packages (from tiktoken->openai-whisper==20231117) (2024.5.15)\n",
            "Requirement already satisfied: requests>=2.26.0 in /usr/local/lib/python3.10/dist-packages (from tiktoken->openai-whisper==20231117) (2.31.0)\n",
            "Requirement already satisfied: typing-extensions>=4.8.0 in /usr/local/lib/python3.10/dist-packages (from torch->openai-whisper==20231117) (4.12.1)\n",
            "Requirement already satisfied: sympy in /usr/local/lib/python3.10/dist-packages (from torch->openai-whisper==20231117) (1.12.1)\n",
            "Requirement already satisfied: networkx in /usr/local/lib/python3.10/dist-packages (from torch->openai-whisper==20231117) (3.3)\n",
            "Requirement already satisfied: jinja2 in /usr/local/lib/python3.10/dist-packages (from torch->openai-whisper==20231117) (3.1.4)\n",
            "Requirement already satisfied: fsspec in /usr/local/lib/python3.10/dist-packages (from torch->openai-whisper==20231117) (2023.6.0)\n",
            "Collecting nvidia-cuda-nvrtc-cu12==12.1.105 (from torch->openai-whisper==20231117)\n",
            "  Using cached nvidia_cuda_nvrtc_cu12-12.1.105-py3-none-manylinux1_x86_64.whl (23.7 MB)\n",
            "Collecting nvidia-cuda-runtime-cu12==12.1.105 (from torch->openai-whisper==20231117)\n",
            "  Using cached nvidia_cuda_runtime_cu12-12.1.105-py3-none-manylinux1_x86_64.whl (823 kB)\n",
            "Collecting nvidia-cuda-cupti-cu12==12.1.105 (from torch->openai-whisper==20231117)\n",
            "  Using cached nvidia_cuda_cupti_cu12-12.1.105-py3-none-manylinux1_x86_64.whl (14.1 MB)\n",
            "Collecting nvidia-cudnn-cu12==8.9.2.26 (from torch->openai-whisper==20231117)\n",
            "  Using cached nvidia_cudnn_cu12-8.9.2.26-py3-none-manylinux1_x86_64.whl (731.7 MB)\n",
            "Collecting nvidia-cublas-cu12==12.1.3.1 (from torch->openai-whisper==20231117)\n",
            "  Using cached nvidia_cublas_cu12-12.1.3.1-py3-none-manylinux1_x86_64.whl (410.6 MB)\n",
            "Collecting nvidia-cufft-cu12==11.0.2.54 (from torch->openai-whisper==20231117)\n",
            "  Using cached nvidia_cufft_cu12-11.0.2.54-py3-none-manylinux1_x86_64.whl (121.6 MB)\n",
            "Collecting nvidia-curand-cu12==10.3.2.106 (from torch->openai-whisper==20231117)\n",
            "  Using cached nvidia_curand_cu12-10.3.2.106-py3-none-manylinux1_x86_64.whl (56.5 MB)\n",
            "Collecting nvidia-cusolver-cu12==11.4.5.107 (from torch->openai-whisper==20231117)\n",
            "  Using cached nvidia_cusolver_cu12-11.4.5.107-py3-none-manylinux1_x86_64.whl (124.2 MB)\n",
            "Collecting nvidia-cusparse-cu12==12.1.0.106 (from torch->openai-whisper==20231117)\n",
            "  Using cached nvidia_cusparse_cu12-12.1.0.106-py3-none-manylinux1_x86_64.whl (196.0 MB)\n",
            "Collecting nvidia-nccl-cu12==2.20.5 (from torch->openai-whisper==20231117)\n",
            "  Using cached nvidia_nccl_cu12-2.20.5-py3-none-manylinux2014_x86_64.whl (176.2 MB)\n",
            "Collecting nvidia-nvtx-cu12==12.1.105 (from torch->openai-whisper==20231117)\n",
            "  Using cached nvidia_nvtx_cu12-12.1.105-py3-none-manylinux1_x86_64.whl (99 kB)\n",
            "Collecting nvidia-nvjitlink-cu12 (from nvidia-cusolver-cu12==11.4.5.107->torch->openai-whisper==20231117)\n",
            "  Downloading nvidia_nvjitlink_cu12-12.5.40-py3-none-manylinux2014_x86_64.whl (21.3 MB)\n",
            "\u001b[2K     \u001b[90m━━━━━━━━━━━━━━━━━━━━━━━━━━━━━━━━━━━━━━━━\u001b[0m \u001b[32m21.3/21.3 MB\u001b[0m \u001b[31m42.6 MB/s\u001b[0m eta \u001b[36m0:00:00\u001b[0m\n",
            "\u001b[?25hRequirement already satisfied: charset-normalizer<4,>=2 in /usr/local/lib/python3.10/dist-packages (from requests>=2.26.0->tiktoken->openai-whisper==20231117) (3.3.2)\n",
            "Requirement already satisfied: idna<4,>=2.5 in /usr/local/lib/python3.10/dist-packages (from requests>=2.26.0->tiktoken->openai-whisper==20231117) (3.7)\n",
            "Requirement already satisfied: urllib3<3,>=1.21.1 in /usr/local/lib/python3.10/dist-packages (from requests>=2.26.0->tiktoken->openai-whisper==20231117) (2.0.7)\n",
            "Requirement already satisfied: certifi>=2017.4.17 in /usr/local/lib/python3.10/dist-packages (from requests>=2.26.0->tiktoken->openai-whisper==20231117) (2024.6.2)\n",
            "Requirement already satisfied: MarkupSafe>=2.0 in /usr/local/lib/python3.10/dist-packages (from jinja2->torch->openai-whisper==20231117) (2.1.5)\n",
            "Requirement already satisfied: mpmath<1.4.0,>=1.1.0 in /usr/local/lib/python3.10/dist-packages (from sympy->torch->openai-whisper==20231117) (1.3.0)\n",
            "Building wheels for collected packages: openai-whisper\n",
            "  Building wheel for openai-whisper (pyproject.toml) ... \u001b[?25l\u001b[?25hdone\n",
            "  Created wheel for openai-whisper: filename=openai_whisper-20231117-py3-none-any.whl size=802826 sha256=135c71ae5ff4f0fec925279ee063c40f2b4a18acf8bd21dfcbe8b4bb55af14c4\n",
            "  Stored in directory: /tmp/pip-ephem-wheel-cache-z0bbnnuf/wheels/8b/6c/d0/622666868c179f156cf595c8b6f06f88bc5d80c4b31dccaa03\n",
            "Successfully built openai-whisper\n",
            "Installing collected packages: nvidia-nvtx-cu12, nvidia-nvjitlink-cu12, nvidia-nccl-cu12, nvidia-curand-cu12, nvidia-cufft-cu12, nvidia-cuda-runtime-cu12, nvidia-cuda-nvrtc-cu12, nvidia-cuda-cupti-cu12, nvidia-cublas-cu12, tiktoken, nvidia-cusparse-cu12, nvidia-cudnn-cu12, nvidia-cusolver-cu12, openai-whisper\n",
            "Successfully installed nvidia-cublas-cu12-12.1.3.1 nvidia-cuda-cupti-cu12-12.1.105 nvidia-cuda-nvrtc-cu12-12.1.105 nvidia-cuda-runtime-cu12-12.1.105 nvidia-cudnn-cu12-8.9.2.26 nvidia-cufft-cu12-11.0.2.54 nvidia-curand-cu12-10.3.2.106 nvidia-cusolver-cu12-11.4.5.107 nvidia-cusparse-cu12-12.1.0.106 nvidia-nccl-cu12-2.20.5 nvidia-nvjitlink-cu12-12.5.40 nvidia-nvtx-cu12-12.1.105 openai-whisper-20231117 tiktoken-0.7.0\n"
          ]
        }
      ]
    },
    {
      "cell_type": "markdown",
      "source": [
        "# Imports"
      ],
      "metadata": {
        "id": "9O2Tl1Uduw6P"
      }
    },
    {
      "cell_type": "code",
      "source": [
        "from pytube import YouTube\n",
        "import whisper\n",
        "import google.generativeai as genai\n",
        "import json"
      ],
      "metadata": {
        "id": "zvsl2Dfpuy3L"
      },
      "execution_count": null,
      "outputs": []
    },
    {
      "cell_type": "markdown",
      "source": [
        "# Download YT Quiz video's audio"
      ],
      "metadata": {
        "id": "oC5LnNhEsXD_"
      }
    },
    {
      "cell_type": "code",
      "source": [
        "def download_yt_audio(url, output_path='./'):\n",
        "    yt = YouTube(url)\n",
        "    video = yt.streams.filter(only_audio=True).first()\n",
        "    output_file = video.download(output_path=output_path)\n",
        "    return output_file"
      ],
      "metadata": {
        "id": "APdck8FHshpr"
      },
      "execution_count": null,
      "outputs": []
    },
    {
      "cell_type": "code",
      "execution_count": null,
      "metadata": {
        "colab": {
          "base_uri": "https://localhost:8080/"
        },
        "id": "RU70Hmbor0o9",
        "outputId": "25c85887-e28d-43f9-b05a-8f13af5af48d"
      },
      "outputs": [
        {
          "output_type": "stream",
          "name": "stdout",
          "text": [
            "/content/./Can Europeans Answer Simple Geography Questions.mp4\n"
          ]
        }
      ],
      "source": [
        "audio_file = download_yt_audio('https://www.youtube.com/watch?v=b3B2gu_tIRI')\n",
        "print(audio_file)"
      ]
    },
    {
      "cell_type": "markdown",
      "source": [
        "# Transcribe the audio"
      ],
      "metadata": {
        "id": "4_0m-JERvPse"
      }
    },
    {
      "cell_type": "code",
      "source": [
        "def transcribe(audio_file):\n",
        "\n",
        "  model = whisper.load_model(\"small\")\n",
        "\n",
        "  transcript = model.transcribe(audio_file)\n",
        "  return transcript"
      ],
      "metadata": {
        "id": "vI4dhV-fvamm"
      },
      "execution_count": null,
      "outputs": []
    },
    {
      "cell_type": "code",
      "source": [
        "transcript = transcribe(audio_file)\n",
        "print(transcript[\"text\"])"
      ],
      "metadata": {
        "id": "4qcdOht1weaV",
        "colab": {
          "base_uri": "https://localhost:8080/"
        },
        "outputId": "af882170-f895-46ff-b700-df9eecb3a4df"
      },
      "execution_count": null,
      "outputs": [
        {
          "output_type": "stream",
          "name": "stderr",
          "text": [
            "100%|███████████████████████████████████████| 461M/461M [00:06<00:00, 70.0MiB/s]\n"
          ]
        },
        {
          "output_type": "stream",
          "name": "stdout",
          "text": [
            " Plus minus three, how many countries worldwide speak Spanish as their official language? Um, I think 21. That is precisely accurate, it's 20. Holy s***. What is the zero degrees latitude line called? I don't know. It will be equator. Oh my gosh, did I really say that? Oh, equator. Today I'm here in Bucharest, Romania, attending the EGM, the Erasmus Generation Meeting, where more than 800 people from all around Europe who are part of the Erasmus Student Network gather to have discussions, workshops, sessions in order to shape the future of Europe. For every question that they answer correctly, they win 20 euros. Let's see who's gonna win some money. What's your name? Eiberk. Where are you from? Turkey. Name three countries that have the same four last letters. Spain. The Netherlands. No, no, no. Same that end with the same four last letters. Bulgaria. Slovakia. Slovenia. No, it's A. No, no, no. With the same four last letters. Oh my god. Uzbekistan, Tajikistan, Kyrgyzstan. There you go. Four countries that end with Stan. Yeah, and? That's it. Three countries. Yeah, good job. Thank you so much. What's your name? I'm Raul. Which country are you from? Netherlands. Name four capitals worldwide that have four letters. That's hard one. Can I have another question? No. Oh, f***. Delhi. New Delhi. Yeah, true. And Delhi itself has five letters. Oh, with the H, yeah. F***, this is harder than I thought. Yeah. Well, you watch it on TikTok. It's not gonna give you 10 more seconds. Yeah, f*** it. Rome, Lima, Doha. What's your name? I'm Kai. Where are you from? I live in the Netherlands, but I'm from Japan. And you're part of which ESN section? I am from ESN 20. On which continent is the youngest country in the world? I would say Asia. He's wrong. I'm sorry. Oh, where is it? It's in Africa. It's in Africa. Which country? South Sudan. Okay, that's right. That makes so much sense. What's your name? Anika. Where are you from? I'm from Amsterdam. Which section? Demon. Demon, okay. I'm from Amsterdam. Okay, fair enough. Name three out of four capitals of the UK. London. That's right. I think this is where it comes to an end. Really? No idea of Scotland. Oh, wait, Dublin. Oh, no, Dublin is Ireland. Edinburgh. That is correct. One more. I don't know the one of Wales. Or Northern Ireland. No idea. Sorry. Would have been either Cardiff or Belfast. Sorry. Fair enough. Thanks for playing with us. What's your name? Pannos. Where are you from? I'm from Greece. And which ESN section? ESN Athens AUB. Nice. Which continent is the driest one in the world? Oh, Australia. No, that's wrong. I'm so sorry. Yeah, it's Antarctic because all the water is frozen. So it doesn't count as water. Really? It is actually, yeah, that's it. Okay. What's your name? My name is Myli. Where are you from? I'm from the Netherlands. Which section? We're from Agnia. Plus minus three. How many countries worldwide speak Spanish as their official language? I think 21. That is precisely accurate. It's 20. Holy s***. That was a random number. I was like, it's my age. I will just go for it. That's fantastic. Thanks so much for playing. Thank you. I appreciate it. Thank you. What's your name? Antonio. Where are you from? I'm from Italy. I represent the Netherlands. Lighten section. Which two countries in Latin America are the only ones that are landlocked? Wait, what landlocked means? No seaside. I'm going to try with Chile and Bolivia. Maybe not even there. One was right. The second one was wrong. Bolivia is. Oh, awful. Closing up. I tried. Yeah, last try. I appreciate it. What's your name? My name is Anik. Where are you from? From the Netherlands. And which ESN section are you part of? I'm from ESN Wageningen. Nice. Name two capitals that are on the north coast of Africa. I don't know. Capital of Egypt. Why? Why can't I not know this right now? Morocco, but that's the country. I don't know. I give up. Cairo is the capital of Egypt. Tunisia. Tunisia. Oh yeah, I know that one. What's your name? Where are you from? From Bucharest, Romania. That's nice. Which section do you represent? ESN assessing Bucharest. Nice. Name three European languages that don't use the Latin alphabet. Bulgarian, Russian, Ukrainian. That is absolutely correct. Thank you so much for playing. I appreciate it. Thank you. Thank you. Thank you. What's your name? My name is Antonis. Where are you from? I'm from Greece. Which ESN section do you represent? ESN Kabathans. That's nice. There's different continental models. But why are there exactly five Olympic rings? There is one ring for Europe, one ring for Oceania, Australia and the other countries nearby. One for Africa, one for Asia, and the fifth one for the whole America, North and South. That is correct. But what about Antarctica? I don't think that there are any people that want to compete in the Olympics in Antarctica. There are no people living there except for the scientists, actually. That is correct. Thank you so much. Thank you for playing. Thank you. Thank you very much. Appreciate it. What's your name? I'm Joss. Where are you from? I am from the Netherlands. For which ESN section are you here? I'm here from Eersen Groningen. Groningen! Where is the Fesche? Here is the Fesche. Thank you. Name one country worldwide that starts with A, but does not end with A. The problem isn't Dutch, they don't end with an A. Yeah, the answer needs to be in English. Yeah, I figured. I'm going to give you a hint. One of them is actually represented here. Then I should know it, actually. No, I'm going to have to pass. Sorry, Azad Bayjan would be one option. And Afghanistan. Sorry. What's your name? I'm Kenza. Nice to meet you. Where are you from? I'm from France, but I study in the Netherlands. And which ESN section are you representing? Groningen. Name one flag that if you turn it around 180 degrees, represents another country. Well, the Netherlands? No. Ah, I don't know. No idea? No. So sorry. One option would be like Indonesia, Poland, Italy and Abery Coast as well. Oh yeah, that's true. But the one I could have got, the other one probably was. So sorry. That's fine. I'm putting an antique pick, by the way. Merci beaucoup, j'ai l'apprecier. You too. What's your name? Margarita. Where are you from? Italy. Which ESN section do you represent? ESN Mesa Munich. Nice. On the 1st of May, 2022, there was one country that changed its official English name to the official name of its native language. Which country was it? Turkey, Turkey. That is absolutely correct. Thank you so much. Thank you. You have to be right at the wall because you'll wait until. Yeah. What's your name? Alex. Where are you from? From Sweden. That's amazing. Which section are you representing? I'm actually representing national levels. So my section is ESN Vekker. And which position do you have then? I event manager. That's fantastic. What is the zero degrees latitude line called? I don't know. It will be equator. Oh my gosh, did I really say that? Oh, equator. I'm so sorry. It's okay. What's your name? I'm Konstantina. Where are you from? I'm from Sweden. That's amazing. Which section do you represent? I represent Malma. Malma, nice. On which continent is the oldest country in the world? Africa. That's wrong. I'm so sorry. It's in Italy. It's San Marino. Italy is not a continent. No, no, no. But Europe would be the answer. Jesus Christ. Italy is not a continent, guys. I didn't know that. Sorry. I'll improve for the future. So sorry. What's your name? Adil. Where are you from? Bulgaria. Which ESN section do you represent? ESN, Bulgaria University. That is absolutely fantastic. Bulgaria, United States. The capital of the USA is Washington DC. But what does DC stand for? Well, I can say that I have no idea. No idea whatsoever. Okay, okay. Something with city, I would say. Nope. Okay, that's my... No idea. No, that's my... I'm so sorry. We'll be district of Colombia. I was thinking about district, but I was not sure about the Colombia part. I would never guess that. Sorry. I would never guess that. At least you tried. What's your name? Gavin. Where are you from? The Netherlands. Which ESN section are you representing here? Munich. That is absolutely fantastic. The question for you is, name one country that has more than one capital city. South Africa. That is absolutely correct. Good job. You can play if you want. Double or nothing. So you're gonna lose. If you... Okay. Name two of the capitals of South Africa. Bloomfontein and Johannesburg. That is absolutely... No! Because Johannesburg is not a capital. Pretoria. That is correct. Good job. You won yourself 40 euros. Thank you so much. What's your name? My name is Hirati. Where are you from? From ESN Spain. Which ESN section do you represent here? I represent here ESN Oviedo, but I'm also from ESN Bilbao. Nice. Thank you. Name three countries in Oceania. New Zealand, Australia and Indonesia. That is in Asia. Two out of three are correct. Name a third one. Okay. The Maldives. No, that's in Asia as well. I don't know. No idea. Can I get a clue? I'm sorry. I'm sorry. What is it? Fiji, Samoa, Tonga... There are many. Sorry. What's your name? I'm Christian. Where are you from? I'm from Romania. Which city? Bahia Mare, Northern Transylvania. Which ESN section do you represent here? I represent European Parliament now. Oh my sweet baby Jesus. Name two capitals in the Baltics. Tallinn, Riga... Okay. Not bad. Thank you. Thanks for playing. I appreciate it. Thank you. Good job. What's your name? Rick. Where are you from? The Netherlands. Which ESN section do you represent here? Oh, the national board. The national board. Which position do you represent? President. Oh my sweet baby Jesus. Nice to meet you. How many stars are in the flag of New Zealand? That's a very good question. I would say three. That is wrong. It's four. I'm so sorry. That's five. Nice try. What's your name? Justin. Where are you from? Moldova. Moldova. Nice. Chisinau or...? Yes. Nice. Name five capitals in Asia. Easy peasy. Baku, Yelevan. New Delhi. Let's put you under pressure. Ten more seconds. You kill me. No, I'm just kidding. You have more time. Okay. So I have two more, right? Yeah. I will give you 30 more seconds though. Because you said easy peasy at the beginning. Yeah. Well, I don't remember. You don't know anymore? Maybe I know, but I don't remember now. Oh man, I'm so sorry. But I also have a quiz for you. Okay. Ten euro. If you say the capital of Moldova, but correctly. Chisinau. Second try. I give it three tries. Oh, it was on. Okay. Wow. Chisinau. No. Chisinau. No. Is the S with a SHU? It's KISINAU. It's SHUF. Listen, listen, listen. I lost 20, you lost 10, right? So you still own with 10 euro. No, because we lost. You also lost. So you won with 10 euro, right? Yes. So yes. You won with 10 euro. That's right. Never, never, never make a deal with Moldovian, bro. Thanks for playing. Oh, love you Justin. Hi, what's your name? Bora. Where are you from? The Netherlands. But my parents are Turkish. And which ESN section do you represent? I represent, for this time, ESN International Volunteer. Oh, wow. Nice. Name four capital cities worldwide that have the name of their country in their name. I'm completely closed. No idea. No idea. Whatsoever. Not so whatever. Probably with the camera pointing towards me. I'm sorry. Not working. Few options will be like Mexico, Mexico City, Palama, Palama City, Luxembourg. Too bad. Sorry, sorry. What's your name? Emanuele. Where are you from? Italy. Which ESN section do you represent? Macerata. Okay, nice. It's in the center of Italy. Okay. It's near Bologna. Nice. Name five countries worldwide that can have at the beginning of their name the word the. The Netherlands count. That's one. It's very difficult, this one. Okay. We can make it four because it's, let's make it four. It's pretty hard. Oh my god. The Philippines. That's two. The Philippines. The Maldives. The Maldives. The Maldives. The Bahamas. That is correct. Good job. It will be easier with the United States of America or the United Kingdom. But you got it right. Thank you so much. Thank you. Thank you, man. Thank you too. You took the most complicated answers man. A huge thanks to the Orozmosia Network for making it possible for me to film here, all these Europeans and see how much they know about geography. And of course guys, join ESN.\n"
          ]
        }
      ]
    },
    {
      "cell_type": "markdown",
      "source": [
        "# Extract the Questions and Answers"
      ],
      "metadata": {
        "id": "YmHBP48a3ia8"
      }
    },
    {
      "cell_type": "code",
      "source": [
        "def build_prompt(transcript):\n",
        "  return \"\"\" Below is a transcript with a person quizzing other people. Read\n",
        "  the transcript and extract all the questions and their corresponding answers\n",
        "   and put them in the format:\n",
        "   [\n",
        "      {\n",
        "        \"question\": \"Question\",\n",
        "        \"answer\": \"Answer\"\n",
        "      }\n",
        "   ]\n",
        "   Here is the transcript: \\n\n",
        "  \"\"\" + transcript\n",
        "\n",
        "def get_quiz_questions_and_answers(transcript):\n",
        "  prompt = build_prompt(transcript)\n",
        "\n",
        "  genai.configure(api_key=\"YOUR_API_KEY\")\n",
        "  text_model = genai.GenerativeModel('gemini-pro')\n",
        "  prompt = build_prompt(transcript)\n",
        "  text_response = text_model.generate_content(prompt)\n",
        "  return text_response.text\n",
        "\n"
      ],
      "metadata": {
        "id": "Ex5aOHMS3nCa"
      },
      "execution_count": null,
      "outputs": []
    },
    {
      "cell_type": "code",
      "source": [
        "quiz = get_quiz_questions_and_answers(transcript[\"text\"])\n",
        "print(quiz)"
      ],
      "metadata": {
        "id": "g7TjOgVS4_NL",
        "colab": {
          "base_uri": "https://localhost:8080/",
          "height": 1000
        },
        "outputId": "510d7ba5-0e74-48d7-d20f-8d0757e58ffb"
      },
      "execution_count": null,
      "outputs": [
        {
          "output_type": "stream",
          "name": "stdout",
          "text": [
            "[\n",
            "  {\n",
            "    \"question\": \"Plus minus three, how many countries worldwide speak Spanish as their official language?\",\n",
            "    \"answer\": \"20\"\n",
            "  },\n",
            "  {\n",
            "    \"question\": \"What is the zero degrees latitude line called?\",\n",
            "    \"answer\": \"Equator\"\n",
            "  },\n",
            "  {\n",
            "    \"question\": \"Name three countries that have the same four last letters.\",\n",
            "    \"answer\": \"Bulgaria, Slovakia, Slovenia\"\n",
            "  },\n",
            "  {\n",
            "    \"question\": \"Name four countries that end with Stan.\",\n",
            "    \"answer\": \"Uzbekistan, Tajikistan, Kyrgyzstan\"\n",
            "  },\n",
            "  {\n",
            "    \"question\": \"Name four capitals worldwide that have four letters.\",\n",
            "    \"answer\": \"Delhi, Rome, Lima, Doha\"\n",
            "  },\n",
            "  {\n",
            "    \"question\": \"On which continent is the youngest country in the world?\",\n",
            "    \"answer\": \"Africa\"\n",
            "  },\n",
            "  {\n",
            "    \"question\": \"Which country is the youngest in the world?\",\n",
            "    \"answer\": \"South Sudan\"\n",
            "  },\n",
            "  {\n",
            "    \"question\": \"Name three out of four capitals of the UK.\",\n",
            "    \"answer\": \"London, Edinburgh, Cardiff\"\n",
            "  },\n",
            "  {\n",
            "    \"question\": \"Which continent is the driest one in the world?\",\n",
            "    \"answer\": \"Antarctica\"\n",
            "  },\n",
            "  {\n",
            "    \"question\": \"Plus minus three. How many countries worldwide speak Spanish as their official language?\",\n",
            "    \"answer\": \"20\"\n",
            "  },\n",
            "  {\n",
            "    \"question\": \"Which two countries in Latin America are the only ones that are landlocked?\",\n",
            "    \"answer\": \"Bolivia\"\n",
            "  },\n",
            "  {\n",
            "    \"question\": \"Name two capitals that are on the north coast of Africa.\",\n",
            "    \"answer\": \"Cairo, Tunis\"\n",
            "  },\n",
            "  {\n",
            "    \"question\": \"Name three European languages that don't use the Latin alphabet.\",\n",
            "    \"answer\": \"Bulgarian, Russian, Ukrainian\"\n",
            "  },\n",
            "  {\n",
            "    \"question\": \"There's different continental models. But why are there exactly five Olympic rings?\",\n",
            "    \"answer\": \"One ring for Europe, one ring for Oceania, Australia and the other countries nearby. One for Africa, one for Asia, and the fifth one for the whole America, North and South.\"\n",
            "  },\n",
            "  {\n",
            "    \"question\": \"Name one country worldwide that starts with A, but does not end with A.\",\n",
            "    \"answer\": \"Azad Bayjan\"\n",
            "  },\n",
            "  {\n",
            "    \"question\": \"Name one flag that if you turn it around 180 degrees, represents another country.\",\n",
            "    \"answer\": \"Indonesia, Poland, Italy and Abery Coast\"\n",
            "  },\n",
            "  {\n",
            "    \"question\": \"On the 1st of May, 2022, there was one country that changed its official English name to the official name of its native language. Which country was it?\",\n",
            "    \"answer\": \"Turkey\"\n",
            "  },\n",
            "  {\n",
            "    \"question\": \"What is the zero degrees latitude line called?\",\n",
            "    \"answer\": \"Equator\"\n",
            "  },\n",
            "  {\n",
            "    \"question\": \"On which continent is the oldest country in the world?\",\n",
            "    \"answer\": \"Europe\"\n",
            "  },\n",
            "  {\n",
            "    \"question\": \"The capital of the USA is Washington DC. But what does DC stand for?\",\n",
            "    \"answer\": \"District of Colombia\"\n",
            "  },\n",
            "  {\n",
            "    \"question\": \"Name one country that has more than one capital city.\",\n",
            "    \"answer\": \"South Africa\"\n",
            "  },\n",
            "  {\n",
            "    \"question\": \"Name two of the capitals of South Africa.\",\n",
            "    \"answer\": \"Bloomfontein, Pretoria\"\n",
            "  },\n",
            "  {\n",
            "    \"question\": \"Name three countries in Oceania.\",\n",
            "    \"answer\": \"Australia, New Zealand\"\n",
            "  },\n",
            "  {\n",
            "    \"question\": \"Name two capitals in the Baltics.\",\n",
            "    \"answer\": \"Tallinn, Riga\"\n",
            "  },\n",
            "  {\n",
            "    \"question\": \"How many stars are in the flag of New Zealand?\",\n",
            "    \"answer\": \"4\"\n",
            "  },\n",
            "  {\n",
            "    \"question\": \"Name five capitals in Asia.\",\n",
            "    \"answer\": \"Baku, Yelevan. New Delhi.\"\n",
            "  },\n",
            "  {\n",
            "    \"question\": \"Name four capital cities worldwide that have the name of their country in their name.\",\n",
            "    \"answer\": \"Mexico, Mexico City, Palama, Palama City, Luxembourg\"\n",
            "  },\n",
            "  {\n",
            "    \"question\": \"Name five countries worldwide that can have at the beginning of their name the word the.\",\n",
            "    \"answer\": \"The Netherlands, The Philippines, The Maldives, The Bahamas\"\n",
            "  }\n",
            "]\n"
          ]
        }
      ]
    },
    {
      "cell_type": "markdown",
      "source": [
        "# Save the the json string in a file to upload in the Android App"
      ],
      "metadata": {
        "id": "VYgWT_0m7q15"
      }
    },
    {
      "cell_type": "code",
      "source": [
        "with open('europeans_geography_questions_quiz.json', 'w') as outfile:\n",
        "    json.dump(quiz, outfile)"
      ],
      "metadata": {
        "id": "-ta3dg668NKE"
      },
      "execution_count": null,
      "outputs": []
    }
  ]
}